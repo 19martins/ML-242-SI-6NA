{
 "cells": [
  {
   "cell_type": "code",
   "execution_count": 2,
   "metadata": {},
   "outputs": [
    {
     "ename": "NameError",
     "evalue": "name 'random_states' is not defined",
     "output_type": "error",
     "traceback": [
      "\u001b[1;31m---------------------------------------------------------------------------\u001b[0m",
      "\u001b[1;31mNameError\u001b[0m                                 Traceback (most recent call last)",
      "Cell \u001b[1;32mIn[2], line 3\u001b[0m\n\u001b[0;32m      1\u001b[0m \u001b[38;5;66;03m# Etapa 5: Análise dos Resultados\u001b[39;00m\n\u001b[0;32m      2\u001b[0m best_k \u001b[38;5;241m=\u001b[39m {}\n\u001b[1;32m----> 3\u001b[0m \u001b[38;5;28;01mfor\u001b[39;00m random_state \u001b[38;5;129;01min\u001b[39;00m \u001b[43mrandom_states\u001b[49m:\n\u001b[0;32m      4\u001b[0m     \u001b[38;5;28mprint\u001b[39m(\u001b[38;5;124mf\u001b[39m\u001b[38;5;124m\"\u001b[39m\u001b[38;5;124mAnálise para random_state=\u001b[39m\u001b[38;5;132;01m{\u001b[39;00mrandom_state\u001b[38;5;132;01m}\u001b[39;00m\u001b[38;5;124m:\u001b[39m\u001b[38;5;124m\"\u001b[39m)\n\u001b[0;32m      5\u001b[0m     best_k[random_state] \u001b[38;5;241m=\u001b[39m \u001b[38;5;28mmax\u001b[39m(experiment_results[random_state],\n\u001b[0;32m      6\u001b[0m                                key\u001b[38;5;241m=\u001b[39m\u001b[38;5;28;01mlambda\u001b[39;00m k: experiment_results[random_state][k][\u001b[38;5;124m'\u001b[39m\u001b[38;5;124mmean_accuracy\u001b[39m\u001b[38;5;124m'\u001b[39m])\n",
      "\u001b[1;31mNameError\u001b[0m: name 'random_states' is not defined"
     ]
    }
   ],
   "source": [
    "# Etapa 5: Análise dos Resultados\n",
    "best_k = {}\n",
    "for random_state in random_states:\n",
    "    print(f\"Análise para random_state={random_state}:\")\n",
    "    best_k[random_state] = max(experiment_results[random_state],\n",
    "                               key=lambda k: experiment_results[random_state][k]['mean_accuracy'])\n",
    "    print(f\"Melhor valor de k: {best_k[random_state]}\")"
   ]
  }
 ],
 "metadata": {
  "kernelspec": {
   "display_name": "Python 3",
   "language": "python",
   "name": "python3"
  },
  "language_info": {
   "codemirror_mode": {
    "name": "ipython",
    "version": 3
   },
   "file_extension": ".py",
   "mimetype": "text/x-python",
   "name": "python",
   "nbconvert_exporter": "python",
   "pygments_lexer": "ipython3",
   "version": "3.11.2"
  }
 },
 "nbformat": 4,
 "nbformat_minor": 2
}
