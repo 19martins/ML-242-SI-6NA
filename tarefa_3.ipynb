{
 "cells": [
  {
   "cell_type": "code",
   "execution_count": 13,
   "metadata": {},
   "outputs": [
    {
     "ename": "NameError",
     "evalue": "name 'resultados' is not defined",
     "output_type": "error",
     "traceback": [
      "\u001b[1;31m---------------------------------------------------------------------------\u001b[0m",
      "\u001b[1;31mNameError\u001b[0m                                 Traceback (most recent call last)",
      "Cell \u001b[1;32mIn[13], line 3\u001b[0m\n\u001b[0;32m      1\u001b[0m \u001b[38;5;66;03m# Apresentar os resultados em um DataFrame para facilitar a visualização\u001b[39;00m\n\u001b[0;32m      2\u001b[0m \u001b[38;5;28;01mimport\u001b[39;00m \u001b[38;5;21;01mpandas\u001b[39;00m \u001b[38;5;28;01mas\u001b[39;00m \u001b[38;5;21;01mpd\u001b[39;00m\n\u001b[1;32m----> 3\u001b[0m resultados_df \u001b[38;5;241m=\u001b[39m pd\u001b[38;5;241m.\u001b[39mDataFrame(\u001b[43mresultados\u001b[49m)\u001b[38;5;241m.\u001b[39mT\n\u001b[0;32m      4\u001b[0m \u001b[38;5;28mprint\u001b[39m(\u001b[38;5;124m\"\u001b[39m\u001b[38;5;130;01m\\n\u001b[39;00m\u001b[38;5;124mResultados Finais:\u001b[39m\u001b[38;5;124m\"\u001b[39m)\n\u001b[0;32m      5\u001b[0m \u001b[38;5;28mprint\u001b[39m(resultados_df)\n",
      "\u001b[1;31mNameError\u001b[0m: name 'resultados' is not defined"
     ]
    }
   ],
   "source": [
    "# Apresentar os resultados em um DataFrame para facilitar a visualização\n",
    "import pandas as pd\n",
    "resultados_df = pd.DataFrame(resultados).T\n",
    "print(\"\\nResultados Finais:\")\n",
    "print(resultados_df)\n",
    "\n",
    "# Análise visual com gráfico de barras\n",
    "resultados_df.plot(kind='bar', figsize=(10, 6))\n",
    "plt.title('Acurácia dos Modelos KNN com Diferentes Valores de k e Random State')\n",
    "plt.xlabel('Random State')\n",
    "plt.ylabel('Acurácia')\n",
    "plt.legend(title='Valor de k')\n",
    "plt.show()\n",
    "\n",
    "# Identificando o melhor desempenho\n",
    "melhor_random_state = resultados_df.max().idxmax()\n",
    "melhor_k = resultados_df.idxmax().max()\n",
    "melhor_acuracia = resultados_df.max().max()\n",
    "print (f\"\\nConfiguração com melhor desempenho: Random State = {melhor_random_state}, k = {melhor_k} com Acurácia de {melhor_acuracia:.4f}\")"
   ]
  }
 ],
 "metadata": {
  "kernelspec": {
   "display_name": "Python 3",
   "language": "python",
   "name": "python3"
  },
  "language_info": {
   "codemirror_mode": {
    "name": "ipython",
    "version": 3
   },
   "file_extension": ".py",
   "mimetype": "text/x-python",
   "name": "python",
   "nbconvert_exporter": "python",
   "pygments_lexer": "ipython3",
   "version": "3.11.2"
  }
 },
 "nbformat": 4,
 "nbformat_minor": 2
}
